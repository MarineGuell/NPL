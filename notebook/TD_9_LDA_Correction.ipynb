{
  "cells": [
    {
      "cell_type": "markdown",
      "source": [
        "**Année scolaire :** 2024 - 2025\n",
        "\n",
        "**École :** YNOV\n",
        "\n",
        "**Filière :** Data scientist\n",
        "\n",
        "**Niveau :** M1\n",
        "\n",
        "**Module :** NLP\n",
        "\n",
        "**Progression pédagogique :** TD 9 - Le modèle LDA - Correction\n",
        "\n",
        "**Intervenant :** Nicolas Miotto"
      ],
      "metadata": {
        "id": "Hg0Z3NwB8KTN"
      }
    },
    {
      "cell_type": "markdown",
      "metadata": {
        "id": "TuJjuuy21ZiJ"
      },
      "source": [
        "# Latent Dirichlet Allocation (LDA)"
      ]
    },
    {
      "cell_type": "markdown",
      "metadata": {
        "id": "CZnZr5331ZiM"
      },
      "source": [
        "🎯 Le but de ce challenge est de trouver des sujets au sein d'un corpus d'emails avec l'algorithme **LDA** (Apprentissage non-suppervisé en NLP)"
      ]
    },
    {
      "cell_type": "markdown",
      "metadata": {
        "id": "jgsjLzfy1ZiM"
      },
      "source": [
        "✉️ Voici une collection de plus de 1 000 ***e-mails sans étiquette***. Essayons d'en ***extraire des sujets*** !"
      ]
    },
    {
      "cell_type": "code",
      "execution_count": 1,
      "metadata": {
        "colab": {
          "base_uri": "https://localhost:8080/",
          "height": 206
        },
        "id": "uyn-dDXw1ZiN",
        "outputId": "41054ca8-deed-4c30-8891-22c2f441f624"
      },
      "outputs": [
        {
          "output_type": "execute_result",
          "data": {
            "text/plain": [
              "                                                text\n",
              "0  From: gld@cunixb.cc.columbia.edu (Gary L Dare)...\n",
              "1  From: atterlep@vela.acs.oakland.edu (Cardinal ...\n",
              "2  From: miner@kuhub.cc.ukans.edu\\nSubject: Re: A...\n",
              "3  From: atterlep@vela.acs.oakland.edu (Cardinal ...\n",
              "4  From: vzhivov@superior.carleton.ca (Vladimir Z..."
            ],
            "text/html": [
              "\n",
              "  <div id=\"df-769fde97-b3ec-4039-b446-e3e1e249da2e\" class=\"colab-df-container\">\n",
              "    <div>\n",
              "<style scoped>\n",
              "    .dataframe tbody tr th:only-of-type {\n",
              "        vertical-align: middle;\n",
              "    }\n",
              "\n",
              "    .dataframe tbody tr th {\n",
              "        vertical-align: top;\n",
              "    }\n",
              "\n",
              "    .dataframe thead th {\n",
              "        text-align: right;\n",
              "    }\n",
              "</style>\n",
              "<table border=\"1\" class=\"dataframe\">\n",
              "  <thead>\n",
              "    <tr style=\"text-align: right;\">\n",
              "      <th></th>\n",
              "      <th>text</th>\n",
              "    </tr>\n",
              "  </thead>\n",
              "  <tbody>\n",
              "    <tr>\n",
              "      <th>0</th>\n",
              "      <td>From: gld@cunixb.cc.columbia.edu (Gary L Dare)...</td>\n",
              "    </tr>\n",
              "    <tr>\n",
              "      <th>1</th>\n",
              "      <td>From: atterlep@vela.acs.oakland.edu (Cardinal ...</td>\n",
              "    </tr>\n",
              "    <tr>\n",
              "      <th>2</th>\n",
              "      <td>From: miner@kuhub.cc.ukans.edu\\nSubject: Re: A...</td>\n",
              "    </tr>\n",
              "    <tr>\n",
              "      <th>3</th>\n",
              "      <td>From: atterlep@vela.acs.oakland.edu (Cardinal ...</td>\n",
              "    </tr>\n",
              "    <tr>\n",
              "      <th>4</th>\n",
              "      <td>From: vzhivov@superior.carleton.ca (Vladimir Z...</td>\n",
              "    </tr>\n",
              "  </tbody>\n",
              "</table>\n",
              "</div>\n",
              "    <div class=\"colab-df-buttons\">\n",
              "\n",
              "  <div class=\"colab-df-container\">\n",
              "    <button class=\"colab-df-convert\" onclick=\"convertToInteractive('df-769fde97-b3ec-4039-b446-e3e1e249da2e')\"\n",
              "            title=\"Convert this dataframe to an interactive table.\"\n",
              "            style=\"display:none;\">\n",
              "\n",
              "  <svg xmlns=\"http://www.w3.org/2000/svg\" height=\"24px\" viewBox=\"0 -960 960 960\">\n",
              "    <path d=\"M120-120v-720h720v720H120Zm60-500h600v-160H180v160Zm220 220h160v-160H400v160Zm0 220h160v-160H400v160ZM180-400h160v-160H180v160Zm440 0h160v-160H620v160ZM180-180h160v-160H180v160Zm440 0h160v-160H620v160Z\"/>\n",
              "  </svg>\n",
              "    </button>\n",
              "\n",
              "  <style>\n",
              "    .colab-df-container {\n",
              "      display:flex;\n",
              "      gap: 12px;\n",
              "    }\n",
              "\n",
              "    .colab-df-convert {\n",
              "      background-color: #E8F0FE;\n",
              "      border: none;\n",
              "      border-radius: 50%;\n",
              "      cursor: pointer;\n",
              "      display: none;\n",
              "      fill: #1967D2;\n",
              "      height: 32px;\n",
              "      padding: 0 0 0 0;\n",
              "      width: 32px;\n",
              "    }\n",
              "\n",
              "    .colab-df-convert:hover {\n",
              "      background-color: #E2EBFA;\n",
              "      box-shadow: 0px 1px 2px rgba(60, 64, 67, 0.3), 0px 1px 3px 1px rgba(60, 64, 67, 0.15);\n",
              "      fill: #174EA6;\n",
              "    }\n",
              "\n",
              "    .colab-df-buttons div {\n",
              "      margin-bottom: 4px;\n",
              "    }\n",
              "\n",
              "    [theme=dark] .colab-df-convert {\n",
              "      background-color: #3B4455;\n",
              "      fill: #D2E3FC;\n",
              "    }\n",
              "\n",
              "    [theme=dark] .colab-df-convert:hover {\n",
              "      background-color: #434B5C;\n",
              "      box-shadow: 0px 1px 3px 1px rgba(0, 0, 0, 0.15);\n",
              "      filter: drop-shadow(0px 1px 2px rgba(0, 0, 0, 0.3));\n",
              "      fill: #FFFFFF;\n",
              "    }\n",
              "  </style>\n",
              "\n",
              "    <script>\n",
              "      const buttonEl =\n",
              "        document.querySelector('#df-769fde97-b3ec-4039-b446-e3e1e249da2e button.colab-df-convert');\n",
              "      buttonEl.style.display =\n",
              "        google.colab.kernel.accessAllowed ? 'block' : 'none';\n",
              "\n",
              "      async function convertToInteractive(key) {\n",
              "        const element = document.querySelector('#df-769fde97-b3ec-4039-b446-e3e1e249da2e');\n",
              "        const dataTable =\n",
              "          await google.colab.kernel.invokeFunction('convertToInteractive',\n",
              "                                                    [key], {});\n",
              "        if (!dataTable) return;\n",
              "\n",
              "        const docLinkHtml = 'Like what you see? Visit the ' +\n",
              "          '<a target=\"_blank\" href=https://colab.research.google.com/notebooks/data_table.ipynb>data table notebook</a>'\n",
              "          + ' to learn more about interactive tables.';\n",
              "        element.innerHTML = '';\n",
              "        dataTable['output_type'] = 'display_data';\n",
              "        await google.colab.output.renderOutput(dataTable, element);\n",
              "        const docLink = document.createElement('div');\n",
              "        docLink.innerHTML = docLinkHtml;\n",
              "        element.appendChild(docLink);\n",
              "      }\n",
              "    </script>\n",
              "  </div>\n",
              "\n",
              "\n",
              "<div id=\"df-cb032876-3fa6-476e-ba78-d874fa59078e\">\n",
              "  <button class=\"colab-df-quickchart\" onclick=\"quickchart('df-cb032876-3fa6-476e-ba78-d874fa59078e')\"\n",
              "            title=\"Suggest charts\"\n",
              "            style=\"display:none;\">\n",
              "\n",
              "<svg xmlns=\"http://www.w3.org/2000/svg\" height=\"24px\"viewBox=\"0 0 24 24\"\n",
              "     width=\"24px\">\n",
              "    <g>\n",
              "        <path d=\"M19 3H5c-1.1 0-2 .9-2 2v14c0 1.1.9 2 2 2h14c1.1 0 2-.9 2-2V5c0-1.1-.9-2-2-2zM9 17H7v-7h2v7zm4 0h-2V7h2v10zm4 0h-2v-4h2v4z\"/>\n",
              "    </g>\n",
              "</svg>\n",
              "  </button>\n",
              "\n",
              "<style>\n",
              "  .colab-df-quickchart {\n",
              "      --bg-color: #E8F0FE;\n",
              "      --fill-color: #1967D2;\n",
              "      --hover-bg-color: #E2EBFA;\n",
              "      --hover-fill-color: #174EA6;\n",
              "      --disabled-fill-color: #AAA;\n",
              "      --disabled-bg-color: #DDD;\n",
              "  }\n",
              "\n",
              "  [theme=dark] .colab-df-quickchart {\n",
              "      --bg-color: #3B4455;\n",
              "      --fill-color: #D2E3FC;\n",
              "      --hover-bg-color: #434B5C;\n",
              "      --hover-fill-color: #FFFFFF;\n",
              "      --disabled-bg-color: #3B4455;\n",
              "      --disabled-fill-color: #666;\n",
              "  }\n",
              "\n",
              "  .colab-df-quickchart {\n",
              "    background-color: var(--bg-color);\n",
              "    border: none;\n",
              "    border-radius: 50%;\n",
              "    cursor: pointer;\n",
              "    display: none;\n",
              "    fill: var(--fill-color);\n",
              "    height: 32px;\n",
              "    padding: 0;\n",
              "    width: 32px;\n",
              "  }\n",
              "\n",
              "  .colab-df-quickchart:hover {\n",
              "    background-color: var(--hover-bg-color);\n",
              "    box-shadow: 0 1px 2px rgba(60, 64, 67, 0.3), 0 1px 3px 1px rgba(60, 64, 67, 0.15);\n",
              "    fill: var(--button-hover-fill-color);\n",
              "  }\n",
              "\n",
              "  .colab-df-quickchart-complete:disabled,\n",
              "  .colab-df-quickchart-complete:disabled:hover {\n",
              "    background-color: var(--disabled-bg-color);\n",
              "    fill: var(--disabled-fill-color);\n",
              "    box-shadow: none;\n",
              "  }\n",
              "\n",
              "  .colab-df-spinner {\n",
              "    border: 2px solid var(--fill-color);\n",
              "    border-color: transparent;\n",
              "    border-bottom-color: var(--fill-color);\n",
              "    animation:\n",
              "      spin 1s steps(1) infinite;\n",
              "  }\n",
              "\n",
              "  @keyframes spin {\n",
              "    0% {\n",
              "      border-color: transparent;\n",
              "      border-bottom-color: var(--fill-color);\n",
              "      border-left-color: var(--fill-color);\n",
              "    }\n",
              "    20% {\n",
              "      border-color: transparent;\n",
              "      border-left-color: var(--fill-color);\n",
              "      border-top-color: var(--fill-color);\n",
              "    }\n",
              "    30% {\n",
              "      border-color: transparent;\n",
              "      border-left-color: var(--fill-color);\n",
              "      border-top-color: var(--fill-color);\n",
              "      border-right-color: var(--fill-color);\n",
              "    }\n",
              "    40% {\n",
              "      border-color: transparent;\n",
              "      border-right-color: var(--fill-color);\n",
              "      border-top-color: var(--fill-color);\n",
              "    }\n",
              "    60% {\n",
              "      border-color: transparent;\n",
              "      border-right-color: var(--fill-color);\n",
              "    }\n",
              "    80% {\n",
              "      border-color: transparent;\n",
              "      border-right-color: var(--fill-color);\n",
              "      border-bottom-color: var(--fill-color);\n",
              "    }\n",
              "    90% {\n",
              "      border-color: transparent;\n",
              "      border-bottom-color: var(--fill-color);\n",
              "    }\n",
              "  }\n",
              "</style>\n",
              "\n",
              "  <script>\n",
              "    async function quickchart(key) {\n",
              "      const quickchartButtonEl =\n",
              "        document.querySelector('#' + key + ' button');\n",
              "      quickchartButtonEl.disabled = true;  // To prevent multiple clicks.\n",
              "      quickchartButtonEl.classList.add('colab-df-spinner');\n",
              "      try {\n",
              "        const charts = await google.colab.kernel.invokeFunction(\n",
              "            'suggestCharts', [key], {});\n",
              "      } catch (error) {\n",
              "        console.error('Error during call to suggestCharts:', error);\n",
              "      }\n",
              "      quickchartButtonEl.classList.remove('colab-df-spinner');\n",
              "      quickchartButtonEl.classList.add('colab-df-quickchart-complete');\n",
              "    }\n",
              "    (() => {\n",
              "      let quickchartButtonEl =\n",
              "        document.querySelector('#df-cb032876-3fa6-476e-ba78-d874fa59078e button');\n",
              "      quickchartButtonEl.style.display =\n",
              "        google.colab.kernel.accessAllowed ? 'block' : 'none';\n",
              "    })();\n",
              "  </script>\n",
              "</div>\n",
              "\n",
              "    </div>\n",
              "  </div>\n"
            ],
            "application/vnd.google.colaboratory.intrinsic+json": {
              "type": "dataframe",
              "variable_name": "data",
              "summary": "{\n  \"name\": \"data\",\n  \"rows\": 1199,\n  \"fields\": [\n    {\n      \"column\": \"text\",\n      \"properties\": {\n        \"dtype\": \"string\",\n        \"num_unique_values\": 1199,\n        \"samples\": [\n          \"From: apland@mala.bc.ca (Ron Apland)\\nSubject: Re: plus minus stat\\nOrganization: Malaspina College\\nLines: 24\\n\\nIn article <1993Apr16.222846.17764@alchemy.chem.utoronto.ca>, golchowy@alchemy.chem.utoronto.ca (Gerald Olchowy) writes:\\n> It is meaningless to compare one player's plus/minus statistic with\\n> another players' out of the context of the role and the playing time\\n> of the players involved.\\n\\nIt's just as meaningless to compare goals, assists, PIM and any other stat I\\ncan think of.  Each player is asked to take a unique role for his team.  The\\ncontexts will never be the same from one player to another playing on the\\nsame team or different teams.  And yet ... awards are given and promotions\\nreceived based in part on these meaningless stats.  The operative words are\\n\\\"in part\\\" - stats must be interpreted, tempered with other information one\\nhas about the player.\\n\\n\\n> To compare Jagr's and Francis's plus/minus is ridiculous and absurd...\\n\\nAnd comparing Jagr's and Francis's points is just as ridiculous and absurd...\\nbut not more ridiculous and absurd as comparing goals, assists, points, +\\\\-\\nfor Selanne, Lindros, Juneau, Potvin, and the other rookies in the league...\\nand yet...\\n\\nHow about looking at them for what they are and enjoy the game.\\n\\nRon\\n\",\n          \"From: Robert Angelo Pleshar <rp16+@andrew.cmu.edu>\\nSubject: Re: Wirtz is a weenie\\nOrganization: University Libraries - E&S Library, Carnegie Mellon, Pittsburgh, PA\\nLines: 18\\n\\t<9487@blue.cis.pitt.edu>\\nNNTP-Posting-Host: po2.andrew.cmu.edu\\nIn-Reply-To: <9487@blue.cis.pitt.edu>\\n\\nfrom Dean:\\n>>In other TV news, the Penguins announced yesterday that they will have 3\\n>>fewer broadcast TV games, and will have 22(!) games on some sort of\\n>>subscription / pay-per-view system. Yuck.\\n>\\n>This is incorrect.  This year the Pens had 61 games on \\\"free\\\" TV and 6\\n>games on PPV.  Next year they will have 62 games on free TV and 22 on\\n>a subscription basis.\\n>\\n>You actually get 1 more free game than last year, and there will be no\\n>more \\\"radio-only\\\" games.\\n\\nYes, you're right. After going home and reading the paper, I got the\\nfull details. That's what I get for making a post based on WDUQ's news.\\nI should know by now they get just about every sports related item wrong.\\n\\nRalph\\n\\n\",\n          \"From: topcat!tom@tredysvr.tredydev.unisys.com (Tom Albrecht)\\nSubject: Re: Revelations\\nOrganization: Applied Presuppositionalism, Ltd.\\nLines: 30\\n\\nhudson@athena.cs.uga.edu (Paul Hudson Jr) writes:\\n\\n> >Now, as to the suggestion that all prophecy tends to be somewhat cyclical,\\n> >can you elaborate?  I'm not exactly sure what you mean.  How does the\\n> >suggestion relate to Isaiah's prophecy of the birth of Christ by a virgin?\\n> >I don't see any cycles in that prophecy.\\n>\\n> Maybe cyclical is not the best word.  ...\\n>\\n> Another example would be the Scripture quoted of Judas, \\\"and his bishoprick\\n> let another take.\\\"  Another example is something that Isaiah said of His\\n> disciples which is also applied to Christ in Hebrews, \\\"the children thou\\n> hast given me.\\\"\\n>\\n> How does the preterist view account for this phenomenon.\\n\\nAh, double-fulfillment.  First of all I would say that I'm not sure all\\nthe prophecies had double-fulfillment, e.g., the Isaiah 7:14 prophecy.\\n\\nI would say that just because this happens on some occasions does not mean\\nit will occur always, especially with regard to NT prophecies. The apostles\\nwho quoted the OT and applied those passages to Jesus were acting as divine\\nmessengers and giving the inerrant Word of God to the Church.  No one has\\nthat authority today.  No one has the apostolic authority to say that\\nsuch-and-such a prophecy has double-fulfillment.  If the imagry of\\nRevelation fits with events of the 1st century, it is folly for us to try\\nand make it apply to events 20 centuries later.\\n\\n--\\nTom Albrecht\\n\"\n        ],\n        \"semantic_type\": \"\",\n        \"description\": \"\"\n      }\n    }\n  ]\n}"
            }
          },
          "metadata": {},
          "execution_count": 1
        }
      ],
      "source": [
        "import pandas as pd\n",
        "\n",
        "url = 'https://raw.githubusercontent.com/LucaSainteCroix/teaching-resources/main/exercises-data/lda_data'\n",
        "\n",
        "data = pd.read_csv(url, sep=\",\", header=None)\n",
        "data.columns = ['text']\n",
        "data.head()"
      ]
    },
    {
      "cell_type": "code",
      "execution_count": 2,
      "metadata": {
        "colab": {
          "base_uri": "https://localhost:8080/"
        },
        "id": "fYQ4cfX71ZiO",
        "outputId": "e4d7ed54-ad20-40a5-f64e-df2ddb82c86a"
      },
      "outputs": [
        {
          "output_type": "execute_result",
          "data": {
            "text/plain": [
              "(1199, 1)"
            ]
          },
          "metadata": {},
          "execution_count": 2
        }
      ],
      "source": [
        "data.shape"
      ]
    },
    {
      "cell_type": "markdown",
      "metadata": {
        "id": "rVZL68lv1ZiP"
      },
      "source": [
        "## (1) Preprocessing"
      ]
    },
    {
      "cell_type": "markdown",
      "metadata": {
        "id": "W2NulSoA1ZiP"
      },
      "source": [
        "❓ **Question (Nettoyage**) ❓ Vous y êtes habitué maintenant... Faites le ménage ! Stockez le texte nettoyé dans une nouvelle colonne \"clean_text\" du DataFrame."
      ]
    },
    {
      "cell_type": "code",
      "execution_count": 24,
      "metadata": {
        "tags": [
          "challengify"
        ],
        "colab": {
          "base_uri": "https://localhost:8080/"
        },
        "id": "slyFEVof1ZiP",
        "outputId": "bc5f9890-c619-4907-8960-497198779612"
      },
      "outputs": [
        {
          "output_type": "stream",
          "name": "stderr",
          "text": [
            "[nltk_data] Downloading package punkt_tab to /root/nltk_data...\n",
            "[nltk_data]   Package punkt_tab is already up-to-date!\n",
            "[nltk_data] Downloading package stopwords to /root/nltk_data...\n",
            "[nltk_data]   Package stopwords is already up-to-date!\n",
            "[nltk_data] Downloading package wordnet to /root/nltk_data...\n",
            "[nltk_data]   Package wordnet is already up-to-date!\n",
            "[nltk_data] Downloading package words to /root/nltk_data...\n",
            "[nltk_data]   Unzipping corpora/words.zip.\n"
          ]
        },
        {
          "output_type": "execute_result",
          "data": {
            "text/plain": [
              "True"
            ]
          },
          "metadata": {},
          "execution_count": 24
        }
      ],
      "source": [
        "from nltk.corpus import stopwords, words\n",
        "import re\n",
        "import string\n",
        "from nltk.stem.wordnet import WordNetLemmatizer\n",
        "from nltk import word_tokenize\n",
        "import nltk\n",
        "nltk.download('punkt_tab')\n",
        "nltk.download('stopwords')\n",
        "nltk.download('wordnet')\n",
        "nltk.download('words')"
      ]
    },
    {
      "cell_type": "code",
      "source": [
        "dictionnary = set(words.words())\n",
        "stop_words = set(stopwords.words('english'))\n",
        "lemmatizer = WordNetLemmatizer()\n",
        "\n",
        "def clean (text):\n",
        "  text = re.sub(r'\\b[\\w.-]+@[\\w.-]+\\.[A-Za-z]{2,7}\\b', '', text)\n",
        "  for punctuation in string.punctuation:\n",
        "      text = text.replace(punctuation, ' ')\n",
        "  text = re.sub(r'\\b\\w\\b', '', text) # Suppression des mots de longueur 1\n",
        "  lowercased = text.lower()\n",
        "  tokenized = word_tokenize(lowercased)\n",
        "  words_only = [word for word in tokenized if word.isalpha()]\n",
        "  good_words = [word for word in words_only if word in dictionnary]\n",
        "  without_stopwords = [word for word in good_words if not word in stop_words]\n",
        "  lemmatized = [lemmatizer.lemmatize(word) for word in without_stopwords]\n",
        "  cleaned = ' '.join(lemmatized)\n",
        "  return cleaned"
      ],
      "metadata": {
        "id": "qRN6yqKrTwzG"
      },
      "execution_count": 27,
      "outputs": []
    },
    {
      "cell_type": "code",
      "source": [
        "data['clean_text'] = data.text.apply(clean)\n",
        "data.head()"
      ],
      "metadata": {
        "colab": {
          "base_uri": "https://localhost:8080/",
          "height": 206
        },
        "id": "KuuxkS5pTyf3",
        "outputId": "0f8161ca-7dfc-465a-bfd6-f00fadc0e4d7"
      },
      "execution_count": 28,
      "outputs": [
        {
          "output_type": "execute_result",
          "data": {
            "text/plain": [
              "                                                text  \\\n",
              "0  From: gld@cunixb.cc.columbia.edu (Gary L Dare)...   \n",
              "1  From: atterlep@vela.acs.oakland.edu (Cardinal ...   \n",
              "2  From: miner@kuhub.cc.ukans.edu\\nSubject: Re: A...   \n",
              "3  From: atterlep@vela.acs.oakland.edu (Cardinal ...   \n",
              "4  From: vzhivov@superior.carleton.ca (Vladimir Z...   \n",
              "\n",
              "                                          clean_text  \n",
              "0  dare subject summary show prior hosting postin...  \n",
              "1  cardinal subject arrogance organization nation...  \n",
              "2  subject ancient organization university academ...  \n",
              "3  cardinal subject hell organization national as...  \n",
              "4  subject truly brutal loss organization univers...  "
            ],
            "text/html": [
              "\n",
              "  <div id=\"df-1ff6372d-3d60-4214-931d-7f9783397afd\" class=\"colab-df-container\">\n",
              "    <div>\n",
              "<style scoped>\n",
              "    .dataframe tbody tr th:only-of-type {\n",
              "        vertical-align: middle;\n",
              "    }\n",
              "\n",
              "    .dataframe tbody tr th {\n",
              "        vertical-align: top;\n",
              "    }\n",
              "\n",
              "    .dataframe thead th {\n",
              "        text-align: right;\n",
              "    }\n",
              "</style>\n",
              "<table border=\"1\" class=\"dataframe\">\n",
              "  <thead>\n",
              "    <tr style=\"text-align: right;\">\n",
              "      <th></th>\n",
              "      <th>text</th>\n",
              "      <th>clean_text</th>\n",
              "    </tr>\n",
              "  </thead>\n",
              "  <tbody>\n",
              "    <tr>\n",
              "      <th>0</th>\n",
              "      <td>From: gld@cunixb.cc.columbia.edu (Gary L Dare)...</td>\n",
              "      <td>dare subject summary show prior hosting postin...</td>\n",
              "    </tr>\n",
              "    <tr>\n",
              "      <th>1</th>\n",
              "      <td>From: atterlep@vela.acs.oakland.edu (Cardinal ...</td>\n",
              "      <td>cardinal subject arrogance organization nation...</td>\n",
              "    </tr>\n",
              "    <tr>\n",
              "      <th>2</th>\n",
              "      <td>From: miner@kuhub.cc.ukans.edu\\nSubject: Re: A...</td>\n",
              "      <td>subject ancient organization university academ...</td>\n",
              "    </tr>\n",
              "    <tr>\n",
              "      <th>3</th>\n",
              "      <td>From: atterlep@vela.acs.oakland.edu (Cardinal ...</td>\n",
              "      <td>cardinal subject hell organization national as...</td>\n",
              "    </tr>\n",
              "    <tr>\n",
              "      <th>4</th>\n",
              "      <td>From: vzhivov@superior.carleton.ca (Vladimir Z...</td>\n",
              "      <td>subject truly brutal loss organization univers...</td>\n",
              "    </tr>\n",
              "  </tbody>\n",
              "</table>\n",
              "</div>\n",
              "    <div class=\"colab-df-buttons\">\n",
              "\n",
              "  <div class=\"colab-df-container\">\n",
              "    <button class=\"colab-df-convert\" onclick=\"convertToInteractive('df-1ff6372d-3d60-4214-931d-7f9783397afd')\"\n",
              "            title=\"Convert this dataframe to an interactive table.\"\n",
              "            style=\"display:none;\">\n",
              "\n",
              "  <svg xmlns=\"http://www.w3.org/2000/svg\" height=\"24px\" viewBox=\"0 -960 960 960\">\n",
              "    <path d=\"M120-120v-720h720v720H120Zm60-500h600v-160H180v160Zm220 220h160v-160H400v160Zm0 220h160v-160H400v160ZM180-400h160v-160H180v160Zm440 0h160v-160H620v160ZM180-180h160v-160H180v160Zm440 0h160v-160H620v160Z\"/>\n",
              "  </svg>\n",
              "    </button>\n",
              "\n",
              "  <style>\n",
              "    .colab-df-container {\n",
              "      display:flex;\n",
              "      gap: 12px;\n",
              "    }\n",
              "\n",
              "    .colab-df-convert {\n",
              "      background-color: #E8F0FE;\n",
              "      border: none;\n",
              "      border-radius: 50%;\n",
              "      cursor: pointer;\n",
              "      display: none;\n",
              "      fill: #1967D2;\n",
              "      height: 32px;\n",
              "      padding: 0 0 0 0;\n",
              "      width: 32px;\n",
              "    }\n",
              "\n",
              "    .colab-df-convert:hover {\n",
              "      background-color: #E2EBFA;\n",
              "      box-shadow: 0px 1px 2px rgba(60, 64, 67, 0.3), 0px 1px 3px 1px rgba(60, 64, 67, 0.15);\n",
              "      fill: #174EA6;\n",
              "    }\n",
              "\n",
              "    .colab-df-buttons div {\n",
              "      margin-bottom: 4px;\n",
              "    }\n",
              "\n",
              "    [theme=dark] .colab-df-convert {\n",
              "      background-color: #3B4455;\n",
              "      fill: #D2E3FC;\n",
              "    }\n",
              "\n",
              "    [theme=dark] .colab-df-convert:hover {\n",
              "      background-color: #434B5C;\n",
              "      box-shadow: 0px 1px 3px 1px rgba(0, 0, 0, 0.15);\n",
              "      filter: drop-shadow(0px 1px 2px rgba(0, 0, 0, 0.3));\n",
              "      fill: #FFFFFF;\n",
              "    }\n",
              "  </style>\n",
              "\n",
              "    <script>\n",
              "      const buttonEl =\n",
              "        document.querySelector('#df-1ff6372d-3d60-4214-931d-7f9783397afd button.colab-df-convert');\n",
              "      buttonEl.style.display =\n",
              "        google.colab.kernel.accessAllowed ? 'block' : 'none';\n",
              "\n",
              "      async function convertToInteractive(key) {\n",
              "        const element = document.querySelector('#df-1ff6372d-3d60-4214-931d-7f9783397afd');\n",
              "        const dataTable =\n",
              "          await google.colab.kernel.invokeFunction('convertToInteractive',\n",
              "                                                    [key], {});\n",
              "        if (!dataTable) return;\n",
              "\n",
              "        const docLinkHtml = 'Like what you see? Visit the ' +\n",
              "          '<a target=\"_blank\" href=https://colab.research.google.com/notebooks/data_table.ipynb>data table notebook</a>'\n",
              "          + ' to learn more about interactive tables.';\n",
              "        element.innerHTML = '';\n",
              "        dataTable['output_type'] = 'display_data';\n",
              "        await google.colab.output.renderOutput(dataTable, element);\n",
              "        const docLink = document.createElement('div');\n",
              "        docLink.innerHTML = docLinkHtml;\n",
              "        element.appendChild(docLink);\n",
              "      }\n",
              "    </script>\n",
              "  </div>\n",
              "\n",
              "\n",
              "<div id=\"df-6b0cec02-2099-4e26-a1f3-d579057cbdf4\">\n",
              "  <button class=\"colab-df-quickchart\" onclick=\"quickchart('df-6b0cec02-2099-4e26-a1f3-d579057cbdf4')\"\n",
              "            title=\"Suggest charts\"\n",
              "            style=\"display:none;\">\n",
              "\n",
              "<svg xmlns=\"http://www.w3.org/2000/svg\" height=\"24px\"viewBox=\"0 0 24 24\"\n",
              "     width=\"24px\">\n",
              "    <g>\n",
              "        <path d=\"M19 3H5c-1.1 0-2 .9-2 2v14c0 1.1.9 2 2 2h14c1.1 0 2-.9 2-2V5c0-1.1-.9-2-2-2zM9 17H7v-7h2v7zm4 0h-2V7h2v10zm4 0h-2v-4h2v4z\"/>\n",
              "    </g>\n",
              "</svg>\n",
              "  </button>\n",
              "\n",
              "<style>\n",
              "  .colab-df-quickchart {\n",
              "      --bg-color: #E8F0FE;\n",
              "      --fill-color: #1967D2;\n",
              "      --hover-bg-color: #E2EBFA;\n",
              "      --hover-fill-color: #174EA6;\n",
              "      --disabled-fill-color: #AAA;\n",
              "      --disabled-bg-color: #DDD;\n",
              "  }\n",
              "\n",
              "  [theme=dark] .colab-df-quickchart {\n",
              "      --bg-color: #3B4455;\n",
              "      --fill-color: #D2E3FC;\n",
              "      --hover-bg-color: #434B5C;\n",
              "      --hover-fill-color: #FFFFFF;\n",
              "      --disabled-bg-color: #3B4455;\n",
              "      --disabled-fill-color: #666;\n",
              "  }\n",
              "\n",
              "  .colab-df-quickchart {\n",
              "    background-color: var(--bg-color);\n",
              "    border: none;\n",
              "    border-radius: 50%;\n",
              "    cursor: pointer;\n",
              "    display: none;\n",
              "    fill: var(--fill-color);\n",
              "    height: 32px;\n",
              "    padding: 0;\n",
              "    width: 32px;\n",
              "  }\n",
              "\n",
              "  .colab-df-quickchart:hover {\n",
              "    background-color: var(--hover-bg-color);\n",
              "    box-shadow: 0 1px 2px rgba(60, 64, 67, 0.3), 0 1px 3px 1px rgba(60, 64, 67, 0.15);\n",
              "    fill: var(--button-hover-fill-color);\n",
              "  }\n",
              "\n",
              "  .colab-df-quickchart-complete:disabled,\n",
              "  .colab-df-quickchart-complete:disabled:hover {\n",
              "    background-color: var(--disabled-bg-color);\n",
              "    fill: var(--disabled-fill-color);\n",
              "    box-shadow: none;\n",
              "  }\n",
              "\n",
              "  .colab-df-spinner {\n",
              "    border: 2px solid var(--fill-color);\n",
              "    border-color: transparent;\n",
              "    border-bottom-color: var(--fill-color);\n",
              "    animation:\n",
              "      spin 1s steps(1) infinite;\n",
              "  }\n",
              "\n",
              "  @keyframes spin {\n",
              "    0% {\n",
              "      border-color: transparent;\n",
              "      border-bottom-color: var(--fill-color);\n",
              "      border-left-color: var(--fill-color);\n",
              "    }\n",
              "    20% {\n",
              "      border-color: transparent;\n",
              "      border-left-color: var(--fill-color);\n",
              "      border-top-color: var(--fill-color);\n",
              "    }\n",
              "    30% {\n",
              "      border-color: transparent;\n",
              "      border-left-color: var(--fill-color);\n",
              "      border-top-color: var(--fill-color);\n",
              "      border-right-color: var(--fill-color);\n",
              "    }\n",
              "    40% {\n",
              "      border-color: transparent;\n",
              "      border-right-color: var(--fill-color);\n",
              "      border-top-color: var(--fill-color);\n",
              "    }\n",
              "    60% {\n",
              "      border-color: transparent;\n",
              "      border-right-color: var(--fill-color);\n",
              "    }\n",
              "    80% {\n",
              "      border-color: transparent;\n",
              "      border-right-color: var(--fill-color);\n",
              "      border-bottom-color: var(--fill-color);\n",
              "    }\n",
              "    90% {\n",
              "      border-color: transparent;\n",
              "      border-bottom-color: var(--fill-color);\n",
              "    }\n",
              "  }\n",
              "</style>\n",
              "\n",
              "  <script>\n",
              "    async function quickchart(key) {\n",
              "      const quickchartButtonEl =\n",
              "        document.querySelector('#' + key + ' button');\n",
              "      quickchartButtonEl.disabled = true;  // To prevent multiple clicks.\n",
              "      quickchartButtonEl.classList.add('colab-df-spinner');\n",
              "      try {\n",
              "        const charts = await google.colab.kernel.invokeFunction(\n",
              "            'suggestCharts', [key], {});\n",
              "      } catch (error) {\n",
              "        console.error('Error during call to suggestCharts:', error);\n",
              "      }\n",
              "      quickchartButtonEl.classList.remove('colab-df-spinner');\n",
              "      quickchartButtonEl.classList.add('colab-df-quickchart-complete');\n",
              "    }\n",
              "    (() => {\n",
              "      let quickchartButtonEl =\n",
              "        document.querySelector('#df-6b0cec02-2099-4e26-a1f3-d579057cbdf4 button');\n",
              "      quickchartButtonEl.style.display =\n",
              "        google.colab.kernel.accessAllowed ? 'block' : 'none';\n",
              "    })();\n",
              "  </script>\n",
              "</div>\n",
              "\n",
              "    </div>\n",
              "  </div>\n"
            ],
            "application/vnd.google.colaboratory.intrinsic+json": {
              "type": "dataframe",
              "variable_name": "data",
              "summary": "{\n  \"name\": \"data\",\n  \"rows\": 1199,\n  \"fields\": [\n    {\n      \"column\": \"text\",\n      \"properties\": {\n        \"dtype\": \"string\",\n        \"num_unique_values\": 1199,\n        \"samples\": [\n          \"From: apland@mala.bc.ca (Ron Apland)\\nSubject: Re: plus minus stat\\nOrganization: Malaspina College\\nLines: 24\\n\\nIn article <1993Apr16.222846.17764@alchemy.chem.utoronto.ca>, golchowy@alchemy.chem.utoronto.ca (Gerald Olchowy) writes:\\n> It is meaningless to compare one player's plus/minus statistic with\\n> another players' out of the context of the role and the playing time\\n> of the players involved.\\n\\nIt's just as meaningless to compare goals, assists, PIM and any other stat I\\ncan think of.  Each player is asked to take a unique role for his team.  The\\ncontexts will never be the same from one player to another playing on the\\nsame team or different teams.  And yet ... awards are given and promotions\\nreceived based in part on these meaningless stats.  The operative words are\\n\\\"in part\\\" - stats must be interpreted, tempered with other information one\\nhas about the player.\\n\\n\\n> To compare Jagr's and Francis's plus/minus is ridiculous and absurd...\\n\\nAnd comparing Jagr's and Francis's points is just as ridiculous and absurd...\\nbut not more ridiculous and absurd as comparing goals, assists, points, +\\\\-\\nfor Selanne, Lindros, Juneau, Potvin, and the other rookies in the league...\\nand yet...\\n\\nHow about looking at them for what they are and enjoy the game.\\n\\nRon\\n\",\n          \"From: Robert Angelo Pleshar <rp16+@andrew.cmu.edu>\\nSubject: Re: Wirtz is a weenie\\nOrganization: University Libraries - E&S Library, Carnegie Mellon, Pittsburgh, PA\\nLines: 18\\n\\t<9487@blue.cis.pitt.edu>\\nNNTP-Posting-Host: po2.andrew.cmu.edu\\nIn-Reply-To: <9487@blue.cis.pitt.edu>\\n\\nfrom Dean:\\n>>In other TV news, the Penguins announced yesterday that they will have 3\\n>>fewer broadcast TV games, and will have 22(!) games on some sort of\\n>>subscription / pay-per-view system. Yuck.\\n>\\n>This is incorrect.  This year the Pens had 61 games on \\\"free\\\" TV and 6\\n>games on PPV.  Next year they will have 62 games on free TV and 22 on\\n>a subscription basis.\\n>\\n>You actually get 1 more free game than last year, and there will be no\\n>more \\\"radio-only\\\" games.\\n\\nYes, you're right. After going home and reading the paper, I got the\\nfull details. That's what I get for making a post based on WDUQ's news.\\nI should know by now they get just about every sports related item wrong.\\n\\nRalph\\n\\n\",\n          \"From: topcat!tom@tredysvr.tredydev.unisys.com (Tom Albrecht)\\nSubject: Re: Revelations\\nOrganization: Applied Presuppositionalism, Ltd.\\nLines: 30\\n\\nhudson@athena.cs.uga.edu (Paul Hudson Jr) writes:\\n\\n> >Now, as to the suggestion that all prophecy tends to be somewhat cyclical,\\n> >can you elaborate?  I'm not exactly sure what you mean.  How does the\\n> >suggestion relate to Isaiah's prophecy of the birth of Christ by a virgin?\\n> >I don't see any cycles in that prophecy.\\n>\\n> Maybe cyclical is not the best word.  ...\\n>\\n> Another example would be the Scripture quoted of Judas, \\\"and his bishoprick\\n> let another take.\\\"  Another example is something that Isaiah said of His\\n> disciples which is also applied to Christ in Hebrews, \\\"the children thou\\n> hast given me.\\\"\\n>\\n> How does the preterist view account for this phenomenon.\\n\\nAh, double-fulfillment.  First of all I would say that I'm not sure all\\nthe prophecies had double-fulfillment, e.g., the Isaiah 7:14 prophecy.\\n\\nI would say that just because this happens on some occasions does not mean\\nit will occur always, especially with regard to NT prophecies. The apostles\\nwho quoted the OT and applied those passages to Jesus were acting as divine\\nmessengers and giving the inerrant Word of God to the Church.  No one has\\nthat authority today.  No one has the apostolic authority to say that\\nsuch-and-such a prophecy has double-fulfillment.  If the imagry of\\nRevelation fits with events of the 1st century, it is folly for us to try\\nand make it apply to events 20 centuries later.\\n\\n--\\nTom Albrecht\\n\"\n        ],\n        \"semantic_type\": \"\",\n        \"description\": \"\"\n      }\n    },\n    {\n      \"column\": \"clean_text\",\n      \"properties\": {\n        \"dtype\": \"string\",\n        \"num_unique_values\": 1199,\n        \"samples\": [\n          \"subject plus minus organization college article meaningless compare one player plus minus statistic another context role time involved meaningless compare think player take unique role team never one player another team different yet given received based part meaningless operative part must tempered information one player compare plus minus ridiculous absurd ridiculous absurd ridiculous absurd league yet looking enjoy game\",\n          \"subject organization university library mellon pa posting host reply dean news yesterday broadcast sort subscription pay per view system yuck incorrect year free next year free subscription basis actually get free game last year radio yes right going home reading paper got full get making post based news know get every sport related item wrong ralph\",\n          \"subject organization applied suggestion prophecy somewhat cyclical elaborate exactly sure mean suggestion relate prophecy birth virgin see prophecy maybe cyclical best word another example would scripture let another take another example something said also applied thou given preterist view account phenomenon ah double fulfillment first would say sure double fulfillment prophecy would say mean occur always especially regard applied acting divine giving inerrant word god church one authority today one apostolic authority say prophecy double fulfillment revelation century folly u try make apply later\"\n        ],\n        \"semantic_type\": \"\",\n        \"description\": \"\"\n      }\n    }\n  ]\n}"
            }
          },
          "metadata": {},
          "execution_count": 28
        }
      ]
    },
    {
      "cell_type": "markdown",
      "metadata": {
        "id": "n56Klz4D1ZiQ"
      },
      "source": [
        "## (2) Le modèle Latent Dirichlet Allocation"
      ]
    },
    {
      "cell_type": "markdown",
      "metadata": {
        "id": "EptpKGVq1ZiQ"
      },
      "source": [
        "❓ **Question (Formation)** ❓ Former un modèle LDA pour extraire des sujets potentiels"
      ]
    },
    {
      "cell_type": "code",
      "execution_count": 29,
      "metadata": {
        "tags": [
          "challengify"
        ],
        "id": "dgkI-BG21ZiQ"
      },
      "outputs": [],
      "source": [
        "from sklearn.decomposition import LatentDirichletAllocation\n",
        "from sklearn.feature_extraction.text import CountVectorizer"
      ]
    },
    {
      "cell_type": "code",
      "source": [
        "vectorizer = CountVectorizer()\n",
        "data_vectorized = vectorizer.fit_transform(data['clean_text'])\n",
        "print(len(vectorizer.get_feature_names_out()))"
      ],
      "metadata": {
        "colab": {
          "base_uri": "https://localhost:8080/"
        },
        "id": "NYzXto2gTCK0",
        "outputId": "9333ccf2-6bc1-4611-ebe7-eac6d7badec9"
      },
      "execution_count": 32,
      "outputs": [
        {
          "output_type": "stream",
          "name": "stdout",
          "text": [
            "8633\n"
          ]
        }
      ]
    },
    {
      "cell_type": "code",
      "source": [
        "lda_model = LatentDirichletAllocation(n_components=2)\n",
        "lda_vectors = lda_model.fit_transform(data_vectorized)"
      ],
      "metadata": {
        "id": "HippLsd7TDR0"
      },
      "execution_count": 31,
      "outputs": []
    },
    {
      "cell_type": "markdown",
      "metadata": {
        "id": "9731ApKm1ZiQ"
      },
      "source": [
        "## (3) Visualisez les sujets potentiels"
      ]
    },
    {
      "cell_type": "markdown",
      "metadata": {
        "id": "bcuyn6Bl1ZiQ"
      },
      "source": [
        "🎁 Nous avons codé une fonction qui imprime les mots associés aux sujets potentiels."
      ]
    },
    {
      "cell_type": "code",
      "execution_count": 33,
      "metadata": {
        "id": "p5spqTZj1ZiQ"
      },
      "outputs": [],
      "source": [
        "def print_topics(model, vectorizer):\n",
        "    for idx, topic in enumerate(model.components_):\n",
        "        print(\"Topic %d:\" % (idx))\n",
        "        print([(vectorizer.get_feature_names_out()[i], topic[i])\n",
        "                        for i in topic.argsort()[:-10 - 1:-1]])"
      ]
    },
    {
      "cell_type": "markdown",
      "metadata": {
        "id": "CbnrrFsE1ZiR"
      },
      "source": [
        "❓ **Question** ❓ Imprimez les sujets extraits par votre LDA."
      ]
    },
    {
      "cell_type": "code",
      "execution_count": 34,
      "metadata": {
        "tags": [
          "challengify"
        ],
        "colab": {
          "base_uri": "https://localhost:8080/"
        },
        "id": "EPj0L43n1ZiR",
        "outputId": "c91ff72c-9152-4a26-8a3e-cf64a0c61c25"
      },
      "outputs": [
        {
          "output_type": "stream",
          "name": "stdout",
          "text": [
            "Topic 0:\n",
            "[('subject', np.float64(904.4785623713537)), ('organization', np.float64(867.6523054183273)), ('would', np.float64(803.6444175965696)), ('team', np.float64(707.3510246772323)), ('one', np.float64(660.4742470345385)), ('hockey', np.float64(645.887727209439)), ('game', np.float64(609.4471107294997)), ('university', np.float64(583.6631873426428)), ('go', np.float64(542.1215385175577)), ('time', np.float64(494.5756622103872))]\n",
            "Topic 1:\n",
            "[('god', np.float64(1032.7719663146595)), ('one', np.float64(494.525752965431)), ('people', np.float64(470.7510884711307)), ('church', np.float64(430.2773410963121)), ('would', np.float64(405.3555824033983)), ('subject', np.float64(397.5214376286154)), ('believe', np.float64(337.19035828683656)), ('organization', np.float64(298.3476945816413)), ('think', np.float64(284.7403939293783)), ('truth', np.float64(282.78962399003854))]\n"
          ]
        }
      ],
      "source": [
        "print_topics(lda_model, vectorizer)"
      ]
    },
    {
      "cell_type": "markdown",
      "metadata": {
        "id": "-PhvgAXB1ZiR"
      },
      "source": [
        "## (4) Prédire le mélange document-sujet d'un nouveau texte"
      ]
    },
    {
      "cell_type": "markdown",
      "metadata": {
        "id": "2qM1_1SV1ZiR"
      },
      "source": [
        "❓ **Question (Prédiction)** ❓\n",
        "\n",
        "Maintenant que votre modèle LDA est ajusté, vous pouvez l'utiliser pour prédire les sujets d'un nouveau texte.\n",
        "\n",
        "1. Vectorisez l'exemple\n",
        "2. Utilisez le LDA sur l'exemple vectorisé pour prédire les sujets"
      ]
    },
    {
      "cell_type": "code",
      "execution_count": 35,
      "metadata": {
        "id": "B1eGDTSU1ZiR"
      },
      "outputs": [],
      "source": [
        "example = [\"My team performed poorly last season. Their best player was out injured and only played one game\"]"
      ]
    },
    {
      "cell_type": "code",
      "execution_count": 36,
      "metadata": {
        "tags": [
          "challengify"
        ],
        "colab": {
          "base_uri": "https://localhost:8080/"
        },
        "id": "v54sdU651ZiR",
        "outputId": "40bcc842-d3b1-4aa7-e630-3dde567be70f"
      },
      "outputs": [
        {
          "output_type": "stream",
          "name": "stdout",
          "text": [
            "topic 0 : 0.9466866219946585\n",
            "topic 1 : 0.05331337800534153\n"
          ]
        }
      ],
      "source": [
        "example_vectorized = vectorizer.transform(example)\n",
        "\n",
        "lda_vectors = lda_model.transform(example_vectorized)\n",
        "\n",
        "print(\"topic 0 :\", lda_vectors[0][0])\n",
        "print(\"topic 1 :\", lda_vectors[0][1])"
      ]
    },
    {
      "cell_type": "markdown",
      "metadata": {
        "id": "IuDGBxeF1ZiR"
      },
      "source": [
        "🏁 Félicitations ! Vous savez mettre en œuvre une LDA rapidement."
      ]
    }
  ],
  "metadata": {
    "kernelspec": {
      "display_name": "Python 3",
      "language": "python",
      "name": "python3"
    },
    "language_info": {
      "codemirror_mode": {
        "name": "ipython",
        "version": 3
      },
      "file_extension": ".py",
      "mimetype": "text/x-python",
      "name": "python",
      "nbconvert_exporter": "python",
      "pygments_lexer": "ipython3",
      "version": "3.9.10"
    },
    "colab": {
      "provenance": []
    }
  },
  "nbformat": 4,
  "nbformat_minor": 0
}